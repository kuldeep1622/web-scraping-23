{
 "cells": [
  {
   "cell_type": "markdown",
   "id": "89921f39",
   "metadata": {},
   "source": [
    "# Import all the Required Libraries"
   ]
  },
  {
   "cell_type": "code",
   "execution_count": 1,
   "id": "d5a1fe6d",
   "metadata": {},
   "outputs": [],
   "source": [
    "import pandas as pd\n",
    "import requests\n",
    "from bs4 import BeautifulSoup\n",
    "import time"
   ]
  },
  {
   "cell_type": "markdown",
   "id": "494a5547",
   "metadata": {},
   "source": [
    "# Website URL"
   ]
  },
  {
   "cell_type": "code",
   "execution_count": 2,
   "id": "6b77def4",
   "metadata": {},
   "outputs": [],
   "source": [
    "url = \"https://www.value.today/world/world-top-1000-companies?title=&field_headquarters_of_company_target_id=All&field_market_cap_jul302023_value=&field_company_category_primary_target_id&page=0\""
   ]
  },
  {
   "cell_type": "code",
   "execution_count": 3,
   "id": "6df184e9",
   "metadata": {},
   "outputs": [],
   "source": [
    "response = requests.get(url)"
   ]
  },
  {
   "cell_type": "markdown",
   "id": "252a4b11",
   "metadata": {},
   "source": [
    "# Check the response code"
   ]
  },
  {
   "cell_type": "code",
   "execution_count": 4,
   "id": "62f2563e",
   "metadata": {},
   "outputs": [
    {
     "data": {
      "text/plain": [
       "200"
      ]
     },
     "execution_count": 4,
     "metadata": {},
     "output_type": "execute_result"
    }
   ],
   "source": [
    "response.status_code"
   ]
  },
  {
   "cell_type": "markdown",
   "id": "045990a5",
   "metadata": {},
   "source": [
    "# Store the page_content "
   ]
  },
  {
   "cell_type": "code",
   "execution_count": 5,
   "id": "d8edb4f2",
   "metadata": {},
   "outputs": [],
   "source": [
    "page_content = response.text"
   ]
  },
  {
   "cell_type": "markdown",
   "id": "464c219c",
   "metadata": {},
   "source": [
    "# call the BeautifulSoup Library to find in tags"
   ]
  },
  {
   "cell_type": "code",
   "execution_count": 6,
   "id": "2e8e4990",
   "metadata": {},
   "outputs": [],
   "source": [
    "doc = BeautifulSoup(page_content, 'html.parser')"
   ]
  },
  {
   "cell_type": "markdown",
   "id": "465d2c5d",
   "metadata": {},
   "source": [
    "# find the required text from the HTML code using tag and class of tag\n",
    "\n",
    "### In this i am fetching mobile name, price,RAM & ROM, camera, battery size, display size, rating, rating and reviews"
   ]
  },
  {
   "cell_type": "code",
   "execution_count": 11,
   "id": "4621adb3",
   "metadata": {},
   "outputs": [],
   "source": [
    "# Initialize lists to store data\n",
    "company_name = []\n",
    "company_rank = []"
   ]
  },
  {
   "cell_type": "markdown",
   "id": "54fe509c",
   "metadata": {},
   "source": [
    "# Extract Company name"
   ]
  },
  {
   "cell_type": "code",
   "execution_count": 12,
   "id": "fa49d2ae",
   "metadata": {},
   "outputs": [],
   "source": [
    "company_name_tag = doc.find_all('h2',{'class':'field-content'})"
   ]
  },
  {
   "cell_type": "code",
   "execution_count": 13,
   "id": "00361ba6",
   "metadata": {},
   "outputs": [],
   "source": [
    "# Extract and store mobile names\n",
    "for tag in company_name_tag:\n",
    "    tag_text = tag.get_text()\n",
    "    company_name.append(tag_text)"
   ]
  },
  {
   "cell_type": "code",
   "execution_count": 14,
   "id": "a2072178",
   "metadata": {},
   "outputs": [
    {
     "data": {
      "text/plain": [
       "['APPLE',\n",
       " 'MICROSOFT CORPORATION',\n",
       " 'SAUDI ARABIAN OIL COMPANY (Saudi Aramco)',\n",
       " 'ALPHABET',\n",
       " 'AMAZON.COM',\n",
       " 'NVIDIA CORPORATION',\n",
       " 'TESLA',\n",
       " 'META PLATFORMS',\n",
       " 'BERKSHIRE HATHAWAY',\n",
       " 'TAIWAN SEMICONDUCTOR MANUFACTURING COMPANY (TSMC)']"
      ]
     },
     "execution_count": 14,
     "metadata": {},
     "output_type": "execute_result"
    }
   ],
   "source": [
    "company_name"
   ]
  },
  {
   "cell_type": "markdown",
   "id": "692f631f",
   "metadata": {},
   "source": [
    "# Extract Rank of Company"
   ]
  },
  {
   "cell_type": "code",
   "execution_count": 40,
   "id": "19f2db6e",
   "metadata": {},
   "outputs": [],
   "source": [
    "company_rank_tag = doc.find_all('div',{'class':'views-field views-field-field-world-rank-jul302023 clearfix col-sm-12'})"
   ]
  },
  {
   "cell_type": "code",
   "execution_count": 41,
   "id": "975488e4",
   "metadata": {},
   "outputs": [],
   "source": [
    "# Extract and store mobile prices\n",
    "for tag in company_rank_tag:\n",
    "    tag_text = tag.get_text()\n",
    "    company_rank.append(tag_text[26:])"
   ]
  },
  {
   "cell_type": "code",
   "execution_count": 9,
   "id": "1874dc56",
   "metadata": {},
   "outputs": [
    {
     "ename": "NameError",
     "evalue": "name 'company_rank' is not defined",
     "output_type": "error",
     "traceback": [
      "\u001b[1;31m---------------------------------------------------------------------------\u001b[0m",
      "\u001b[1;31mNameError\u001b[0m                                 Traceback (most recent call last)",
      "Cell \u001b[1;32mIn[9], line 1\u001b[0m\n\u001b[1;32m----> 1\u001b[0m company_rank\n",
      "\u001b[1;31mNameError\u001b[0m: name 'company_rank' is not defined"
     ]
    }
   ],
   "source": [
    "company_rank"
   ]
  },
  {
   "cell_type": "markdown",
   "id": "5b882d0b",
   "metadata": {},
   "source": [
    "# Extract Headquarter"
   ]
  },
  {
   "cell_type": "code",
   "execution_count": 43,
   "id": "cedcbc72",
   "metadata": {},
   "outputs": [],
   "source": [
    "headquarter = []"
   ]
  },
  {
   "cell_type": "code",
   "execution_count": 44,
   "id": "91a39ca3",
   "metadata": {},
   "outputs": [],
   "source": [
    "headquarter_tag = doc.find_all('div', {'class': 'views-field views-field-field-headquarters-of-company clearfix col-sm-12'})"
   ]
  },
  {
   "cell_type": "code",
   "execution_count": 45,
   "id": "42698d1f",
   "metadata": {},
   "outputs": [],
   "source": [
    "# extract the ram and rom info \n",
    "for tag in headquarter_tag:\n",
    "    tag_text = tag.get_text()\n",
    "    headquarter.append(tag_text[14:])"
   ]
  },
  {
   "cell_type": "code",
   "execution_count": 1,
   "id": "e02bb26b",
   "metadata": {},
   "outputs": [
    {
     "ename": "NameError",
     "evalue": "name 'headquarter' is not defined",
     "output_type": "error",
     "traceback": [
      "\u001b[1;31m---------------------------------------------------------------------------\u001b[0m",
      "\u001b[1;31mNameError\u001b[0m                                 Traceback (most recent call last)",
      "Cell \u001b[1;32mIn[1], line 1\u001b[0m\n\u001b[1;32m----> 1\u001b[0m headquarter\n",
      "\u001b[1;31mNameError\u001b[0m: name 'headquarter' is not defined"
     ]
    }
   ],
   "source": [
    "headquarter"
   ]
  },
  {
   "cell_type": "markdown",
   "id": "e659a80f",
   "metadata": {},
   "source": [
    "# Extract Market Cap"
   ]
  },
  {
   "cell_type": "code",
   "execution_count": 22,
   "id": "9a0c1542",
   "metadata": {},
   "outputs": [],
   "source": [
    "market_cap = []"
   ]
  },
  {
   "cell_type": "code",
   "execution_count": 23,
   "id": "4ecb97fd",
   "metadata": {},
   "outputs": [],
   "source": [
    "market_cap_tag = doc.find_all('div', {'class': 'views-field views-field-field-market-cap-jul302023 clearfix col-sm-12'})"
   ]
  },
  {
   "cell_type": "code",
   "execution_count": 24,
   "id": "6e16561d",
   "metadata": {},
   "outputs": [],
   "source": [
    "# extract the battery info\n",
    "for tag in market_cap_tag:\n",
    "    tag_text = tag.get_text()\n",
    "    market_cap.append(tag_text[26:])\n"
   ]
  },
  {
   "cell_type": "code",
   "execution_count": 25,
   "id": "62bf47e1",
   "metadata": {},
   "outputs": [
    {
     "data": {
      "text/plain": [
       "['3,080.000 Billion USD',\n",
       " '2,516.000 Billion USD',\n",
       " '2,083.700 Billion USD',\n",
       " '1,686.000 Billion USD',\n",
       " '1,357.000 Billion USD',\n",
       " '1,155.000 Billion USD',\n",
       " '844.480 Billion USD',\n",
       " '834.120 Billion USD',\n",
       " '767.330 Billion USD',\n",
       " '523.100 Billion USD']"
      ]
     },
     "execution_count": 25,
     "metadata": {},
     "output_type": "execute_result"
    }
   ],
   "source": [
    "market_cap"
   ]
  },
  {
   "cell_type": "markdown",
   "id": "ba05d390",
   "metadata": {},
   "source": [
    "# Extract Bussiness Sector"
   ]
  },
  {
   "cell_type": "code",
   "execution_count": 26,
   "id": "45825ff2",
   "metadata": {},
   "outputs": [],
   "source": [
    "bussiness_sector = []"
   ]
  },
  {
   "cell_type": "code",
   "execution_count": 27,
   "id": "51230845",
   "metadata": {},
   "outputs": [],
   "source": [
    "bussiness_sector_tag = doc.find_all('div', {'class': 'views-field views-field-field-company-category-primary clearfix col-sm-12'})"
   ]
  },
  {
   "cell_type": "code",
   "execution_count": 28,
   "id": "952e972d",
   "metadata": {},
   "outputs": [],
   "source": [
    "# extract the camera specification\n",
    "for tag in bussiness_sector_tag:\n",
    "    tag_text = tag.get_text()\n",
    "    bussiness_sector.append(tag_text[17:])"
   ]
  },
  {
   "cell_type": "code",
   "execution_count": 29,
   "id": "ff13463e",
   "metadata": {},
   "outputs": [
    {
     "data": {
      "text/plain": [
       "['Technology, Mobiles & Accessories, Electronics, Consumer Electronics, Computers Hardware',\n",
       " 'Technology, Software and IT, Laptops, Video Games / Mobile Games / Tech Games / Casino Games, Gaming',\n",
       " 'Energy, Oil and Gas, Chemicals, Oil Refining, Oil and Gas Pipeline Transport',\n",
       " 'Technology, Internet or Mobile App Based Business, Software and IT, Software Products, Cloud Services',\n",
       " 'eCommerce, Internet or Mobile App Based Business, Cloud Services, Software and IT, Artificial Intelligence',\n",
       " 'Technology, Semiconductors, Electronics, Technology Hardware and Instruments, Computers Hardware',\n",
       " 'Electric Vehicles, Cars, Automobile, Solar Power Devices, Capital Goods',\n",
       " 'Communication Services, Internet or Mobile App Based Business, Social Media, Artificial Intelligence, Internet of Things',\n",
       " 'Financial Services, Investments, Insurance',\n",
       " 'Technology, Semiconductors, Electronics, Technology Hardware and Instruments, Processors / Chips']"
      ]
     },
     "execution_count": 29,
     "metadata": {},
     "output_type": "execute_result"
    }
   ],
   "source": [
    "bussiness_sector"
   ]
  },
  {
   "cell_type": "code",
   "execution_count": 1,
   "id": "d720c680",
   "metadata": {},
   "outputs": [],
   "source": [
    "company_name = []\n"
   ]
  },
  {
   "cell_type": "code",
   "execution_count": null,
   "id": "dc01ecfd",
   "metadata": {},
   "outputs": [],
   "source": [
    "import requests\n",
    "from bs4 import BeautifulSoup\n",
    "import csv\n",
    "import time\n",
    "\n",
    "# Initialize lists to store data\n",
    "company_name = []\n",
    "company_rank = []\n",
    "headquarter = []\n",
    "market_cap = []\n",
    "business_sector = []\n",
    "\n",
    "start = time.time()\n",
    "\n",
    "# Loop through multiple pages\n",
    "for i in range(0, 5):\n",
    "    url = f\"https://www.value.today/world/world-top-1000-companies?title=&field_headquarters_of_company_target_id=All&field_market_cap_jul302023_value=&field_company_category_primary_target_id&page={i}\"\n",
    "    response = requests.get(url)\n",
    "    page_content = response.text\n",
    "\n",
    "    doc = BeautifulSoup(page_content, 'html.parser')\n",
    "\n",
    "    # Find company names\n",
    "    company_name_tags = doc.find_all('h2', {'class': 'field-content'})\n",
    "    for tag in company_name_tags:\n",
    "        tag_text = tag.get_text()\n",
    "        company_name.append(tag_text)\n",
    "\n",
    "    # Find company ranks\n",
    "    company_rank_tags = doc.find_all('div', {'class': 'views-field-field-world-rank-jul302023'})\n",
    "    for tag in company_rank_tags:\n",
    "        tag_text = tag.get_text()\n",
    "        company_rank.append(tag_text[26:].strip())\n",
    "\n",
    "    # Find headquarters\n",
    "    headquarter_tags = doc.find_all('div', {'class': 'views-field-field-headquarters-of-company'})\n",
    "    for tag in headquarter_tags:\n",
    "        tag_text = tag.get_text()\n",
    "        headquarter.append(tag_text[14:].strip())\n",
    "\n",
    "    # Find market caps\n",
    "    market_cap_tags = doc.find_all('div', {'class': 'views-field-field-market-cap-jul302023'})\n",
    "    for tag in market_cap_tags:\n",
    "        tag_text = tag.get_text()\n",
    "        market_cap.append(tag_text[26:-11].strip())\n",
    "\n",
    "    # Find business sectors\n",
    "    business_sector_tags = doc.find_all('div', {'class': 'views-field-field-company-category-primary'})\n",
    "    for tag in business_sector_tags:\n",
    "        tag_text = tag.get_text()\n",
    "        business_sector.append(tag_text[17:].strip())\n",
    "\n",
    "# Create a list of tuples (company_name, rank, headquarter, market cap, business sector)\n",
    "company_data = list(zip(company_name, company_rank, headquarter, market_cap, business_sector))\n",
    "\n",
    "# Save data to a CSV file\n",
    "with open('company_data.csv', 'w', newline='', encoding='utf-8') as csvfile:\n",
    "    fieldnames = ['company_name', 'rank', 'headquarter', 'market cap', 'business sector']\n",
    "    writer = csv.writer(csvfile)\n",
    "    writer.writerow(fieldnames)\n",
    "\n",
    "    for data in company_data:\n",
    "        writer.writerow(data)\n",
    "\n",
    "print(time.time() - start)\n"
   ]
  },
  {
   "cell_type": "code",
   "execution_count": null,
   "id": "9c9abc1a",
   "metadata": {},
   "outputs": [],
   "source": []
  },
  {
   "cell_type": "markdown",
   "id": "2e9c6a2e",
   "metadata": {},
   "source": [
    "# Create a list of tuples of all Above Info."
   ]
  },
  {
   "cell_type": "code",
   "execution_count": 29,
   "id": "4f710d7c",
   "metadata": {},
   "outputs": [],
   "source": [
    "import csv  # Import the csv module\n",
    "\n",
    "# Your other code here...\n",
    "\n",
    "company_data = list(zip(company_name, company_rank, headquarter, market_cap, bussiness_sector))\n",
    "\n",
    "# Save data to a CSV file\n",
    "with open('company_data.csv', 'w', newline='', encoding='utf-8') as csvfile:\n",
    "    fieldnames = ['company_name', 'rank', 'headquarter', 'market cap', 'bussiness sector']\n",
    "    writer = csv.writer(csvfile)\n",
    "    writer.writerow(fieldnames)\n",
    "    \n",
    "    for data in company_data:\n",
    "        writer.writerow(data)\n"
   ]
  },
  {
   "cell_type": "code",
   "execution_count": null,
   "id": "a1f36a75",
   "metadata": {},
   "outputs": [],
   "source": []
  },
  {
   "cell_type": "code",
   "execution_count": null,
   "id": "ce3e0c9c",
   "metadata": {},
   "outputs": [],
   "source": []
  },
  {
   "cell_type": "code",
   "execution_count": null,
   "id": "806c3747",
   "metadata": {},
   "outputs": [],
   "source": []
  },
  {
   "cell_type": "code",
   "execution_count": null,
   "id": "ebb776b0",
   "metadata": {},
   "outputs": [],
   "source": []
  },
  {
   "cell_type": "markdown",
   "id": "9b896dee",
   "metadata": {},
   "source": [
    "# Here is the More Simple Code of Above "
   ]
  },
  {
   "cell_type": "code",
   "execution_count": 3,
   "id": "f0cda200",
   "metadata": {},
   "outputs": [
    {
     "name": "stdout",
     "output_type": "stream",
     "text": [
      "5.199760675430298\n"
     ]
    }
   ],
   "source": [
    "import requests\n",
    "from bs4 import BeautifulSoup\n",
    "import pandas as pd\n",
    "import csv\n",
    "import time\n",
    "\n",
    "# Initialize lists to store data\n",
    "company_name = []\n",
    "company_rank = []\n",
    "headquarter = []\n",
    "market_cap = []\n",
    "business_sector = []\n",
    "\n",
    "start = time.time()\n",
    "\n",
    "# Loop through multiple pages\n",
    "for page_no in range(0, 3):\n",
    "    url = f\"https://www.flipkart.com/search?q=mobile+phones&otracker=search&otracker2=search&marketplace=FLIPKART&as-show=on&as=off&sort=price_desc&page={page_no}\"\n",
    "    response = requests.get(url)\n",
    "    page_content = response.text\n",
    "\n",
    "    doc = BeautifulSoup(page_content, 'html.parser')\n",
    "\n",
    "    # Find company names\n",
    "    company_name_tags = doc.find_all('h2', {'class': 'field-content'})\n",
    "    for tag in company_name_tags:\n",
    "        tag_text = tag.get_text()\n",
    "        company_name.append(tag_text)\n",
    "\n",
    "    # Find company ranks\n",
    "    company_rank_tags = doc.find_all('div', {'class': 'views-field-field-world-rank-jul302023'})\n",
    "    for tag in company_rank_tags:\n",
    "        tag_text = tag.get_text()\n",
    "        company_rank.append(tag_text.strip())\n",
    "\n",
    "    # Find headquarters\n",
    "    headquarter_tags = doc.find_all('div', {'class': 'views-field-field-headquarters-of-company'})\n",
    "    for tag in headquarter_tags:\n",
    "        tag_text = tag.get_text()\n",
    "        headquarter.append(tag_text.strip())\n",
    "\n",
    "    # Find market caps\n",
    "    market_cap_tags = doc.find_all('div', {'class': 'views-field-field-market-cap-jul302023'})\n",
    "    for tag in market_cap_tags:\n",
    "        tag_text = tag.get_text()\n",
    "        market_cap.append(tag_text.strip())\n",
    "\n",
    "    # Find business sectors\n",
    "    business_sector_tags = doc.find_all('div', {'class': 'views-field-field-company-category-primary'})\n",
    "    for tag in business_sector_tags:\n",
    "        tag_text = tag.get_text()\n",
    "        business_sector.append(tag_text.strip())\n",
    "\n",
    "# Create a list of tuples (company_name, rank, headquarter, market cap, business sector)\n",
    "company_data = list(zip(company_name, company_rank, headquarter, market_cap, business_sector))\n",
    "\n",
    "# Save data to a CSV file\n",
    "with open('company_data.csv', 'w', newline='', encoding='utf-8') as csvfile:\n",
    "    fieldnames = ['company_name', 'rank', 'headquarter', 'market cap', 'business sector']\n",
    "    writer = csv.writer(csvfile)\n",
    "    writer.writerow(fieldnames)\n",
    "\n",
    "    for data in company_data:\n",
    "        writer.writerow(data)\n",
    "\n",
    "print(time.time() - start)\n"
   ]
  },
  {
   "cell_type": "code",
   "execution_count": null,
   "id": "37209509",
   "metadata": {},
   "outputs": [],
   "source": []
  },
  {
   "cell_type": "code",
   "execution_count": null,
   "id": "37063168",
   "metadata": {},
   "outputs": [],
   "source": []
  },
  {
   "cell_type": "code",
   "execution_count": null,
   "id": "c1f2661e",
   "metadata": {},
   "outputs": [],
   "source": []
  }
 ],
 "metadata": {
  "kernelspec": {
   "display_name": "Python 3 (ipykernel)",
   "language": "python",
   "name": "python3"
  },
  "language_info": {
   "codemirror_mode": {
    "name": "ipython",
    "version": 3
   },
   "file_extension": ".py",
   "mimetype": "text/x-python",
   "name": "python",
   "nbconvert_exporter": "python",
   "pygments_lexer": "ipython3",
   "version": "3.11.3"
  }
 },
 "nbformat": 4,
 "nbformat_minor": 5
}
