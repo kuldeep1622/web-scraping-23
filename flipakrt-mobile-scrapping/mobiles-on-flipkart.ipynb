{
 "cells": [
  {
   "cell_type": "markdown",
   "id": "89921f39",
   "metadata": {},
   "source": [
    "# Import all the Required Libraries"
   ]
  },
  {
   "cell_type": "code",
   "execution_count": 8,
   "id": "d5a1fe6d",
   "metadata": {},
   "outputs": [],
   "source": [
    "import pandas as pd\n",
    "import requests\n",
    "from bs4 import BeautifulSoup\n",
    "import time"
   ]
  },
  {
   "cell_type": "markdown",
   "id": "494a5547",
   "metadata": {},
   "source": [
    "# Website URL"
   ]
  },
  {
   "cell_type": "code",
   "execution_count": 3,
   "id": "6b77def4",
   "metadata": {},
   "outputs": [],
   "source": [
    "url = \"https://www.flipkart.com/search?q=mobile+phones&otracker=search&otracker2=search&marketplace=FLIPKART&as-show=on&as=off&sort=price_desc&page=1\""
   ]
  },
  {
   "cell_type": "code",
   "execution_count": 6,
   "id": "6df184e9",
   "metadata": {},
   "outputs": [],
   "source": [
    "response = requests.get(url)"
   ]
  },
  {
   "cell_type": "markdown",
   "id": "252a4b11",
   "metadata": {},
   "source": [
    "# Check the response code"
   ]
  },
  {
   "cell_type": "code",
   "execution_count": 11,
   "id": "62f2563e",
   "metadata": {},
   "outputs": [
    {
     "data": {
      "text/plain": [
       "200"
      ]
     },
     "execution_count": 11,
     "metadata": {},
     "output_type": "execute_result"
    }
   ],
   "source": [
    "response.status_code"
   ]
  },
  {
   "cell_type": "markdown",
   "id": "045990a5",
   "metadata": {},
   "source": [
    "# Store the page_content "
   ]
  },
  {
   "cell_type": "code",
   "execution_count": 13,
   "id": "d8edb4f2",
   "metadata": {},
   "outputs": [],
   "source": [
    "page_content = response.text"
   ]
  },
  {
   "cell_type": "markdown",
   "id": "464c219c",
   "metadata": {},
   "source": [
    "# call the BeautifulSoup Library to find in tags"
   ]
  },
  {
   "cell_type": "code",
   "execution_count": 14,
   "id": "2e8e4990",
   "metadata": {},
   "outputs": [],
   "source": [
    "doc = BeautifulSoup(page_content, 'html.parser')"
   ]
  },
  {
   "cell_type": "markdown",
   "id": "465d2c5d",
   "metadata": {},
   "source": [
    "# find the required text from the HTML code using tag and class of tag\n",
    "\n",
    "### In this i am fetching mobile name, price,RAM & ROM, camera, battery size, display size, rating, rating and reviews"
   ]
  },
  {
   "cell_type": "code",
   "execution_count": 24,
   "id": "4621adb3",
   "metadata": {},
   "outputs": [],
   "source": [
    "# Initialize lists to store data\n",
    "mobile_names = []\n",
    "mobile_prices = []\n",
    "display_size = []\n",
    "camera = []\n",
    "battery = []\n",
    "ram_rom = []\n",
    "rating = []\n",
    "rating_and_reviews = []"
   ]
  },
  {
   "cell_type": "markdown",
   "id": "54fe509c",
   "metadata": {},
   "source": [
    "# Extract mobile name"
   ]
  },
  {
   "cell_type": "code",
   "execution_count": 25,
   "id": "fa49d2ae",
   "metadata": {},
   "outputs": [],
   "source": [
    "mobile_name = doc.find_all('div',{'class':'_4rR01T'})"
   ]
  },
  {
   "cell_type": "code",
   "execution_count": null,
   "id": "00361ba6",
   "metadata": {},
   "outputs": [],
   "source": [
    "# Extract and store mobile names\n",
    "for tag in mobile_name_tags:\n",
    "    tag_text = tag.get_text()\n",
    "    mobile_names.append(tag_text)"
   ]
  },
  {
   "cell_type": "markdown",
   "id": "692f631f",
   "metadata": {},
   "source": [
    "# Extract Mobile Price"
   ]
  },
  {
   "cell_type": "code",
   "execution_count": 16,
   "id": "19f2db6e",
   "metadata": {},
   "outputs": [],
   "source": [
    "mobile_prices = doc.find_all('div',{'class':'_30jeq3 _1_WHN1'})"
   ]
  },
  {
   "cell_type": "code",
   "execution_count": null,
   "id": "975488e4",
   "metadata": {},
   "outputs": [],
   "source": [
    "# Extract and store mobile prices\n",
    "for tag in mobile_price_tags:\n",
    "    tag_text = tag.get_text()\n",
    "    mobile_prices.append(tag_text)"
   ]
  },
  {
   "cell_type": "markdown",
   "id": "5b882d0b",
   "metadata": {},
   "source": [
    "# Extract RAM & ROM"
   ]
  },
  {
   "cell_type": "code",
   "execution_count": 17,
   "id": "91a39ca3",
   "metadata": {},
   "outputs": [],
   "source": [
    "ram_rom = doc.find_all('li', {'class': 'rgWa7D'})"
   ]
  },
  {
   "cell_type": "code",
   "execution_count": null,
   "id": "42698d1f",
   "metadata": {},
   "outputs": [],
   "source": [
    "# extract the ram and rom info \n",
    "for tag in ram_rom_tag:\n",
    "    tag_text = tag.get_text()\n",
    "    if \"RAM\" in tag_text or 'ROM' in tag_text:\n",
    "        ram_rom.append(tag_text)"
   ]
  },
  {
   "cell_type": "markdown",
   "id": "e659a80f",
   "metadata": {},
   "source": [
    "# Extract Battery info"
   ]
  },
  {
   "cell_type": "code",
   "execution_count": null,
   "id": "4ecb97fd",
   "metadata": {},
   "outputs": [],
   "source": [
    "battery = doc.find_all('li', {'class': 'rgWa7D'})"
   ]
  },
  {
   "cell_type": "code",
   "execution_count": null,
   "id": "6e16561d",
   "metadata": {},
   "outputs": [],
   "source": [
    "# extract the battery info\n",
    "for tag in battery_tag:\n",
    "    tag_text = tag.get_text()\n",
    "    if \"mAh\" in tag_text:\n",
    "        battery.append(tag_text)\n"
   ]
  },
  {
   "cell_type": "markdown",
   "id": "ba05d390",
   "metadata": {},
   "source": [
    "# Extract Camera info"
   ]
  },
  {
   "cell_type": "code",
   "execution_count": 18,
   "id": "51230845",
   "metadata": {},
   "outputs": [],
   "source": [
    "camera = doc.find_all('li', {'class': 'rgWa7D'})"
   ]
  },
  {
   "cell_type": "code",
   "execution_count": null,
   "id": "952e972d",
   "metadata": {},
   "outputs": [],
   "source": [
    "# extract the camera specification\n",
    "for tag in mobile_camera_tag:\n",
    "    tag_text = tag.get_text()\n",
    "    if \"MP\" in tag_text or \"Camera\" in tag_text:\n",
    "        camera.append(tag_text)"
   ]
  },
  {
   "cell_type": "markdown",
   "id": "c0cef361",
   "metadata": {},
   "source": [
    "# Extract Display Size info."
   ]
  },
  {
   "cell_type": "code",
   "execution_count": 19,
   "id": "da83f38c",
   "metadata": {},
   "outputs": [],
   "source": [
    "display_size = doc.find_all('li', {'class': 'rgWa7D'})"
   ]
  },
  {
   "cell_type": "code",
   "execution_count": null,
   "id": "3c187407",
   "metadata": {},
   "outputs": [],
   "source": [
    "# Extract and store display size specifications\n",
    "for tag in mobile_size_tags:\n",
    "    tag_text = tag.get_text()\n",
    "    if \"inch\" in tag_text or \"cm\" in tag_text:\n",
    "        display_size.append(tag_text)"
   ]
  },
  {
   "cell_type": "markdown",
   "id": "6e9bd989",
   "metadata": {},
   "source": [
    "# Extract Rating"
   ]
  },
  {
   "cell_type": "code",
   "execution_count": 21,
   "id": "47d284bf",
   "metadata": {},
   "outputs": [],
   "source": [
    "rating = doc.find_all('div', {'class': '_3LWZlK'})"
   ]
  },
  {
   "cell_type": "code",
   "execution_count": null,
   "id": "4fe818ce",
   "metadata": {},
   "outputs": [],
   "source": [
    "# extract the ram and rom info \n",
    "for tag in rating_tag:\n",
    "    tag_text = tag.get_text()\n",
    "    rating.append(tag_text)"
   ]
  },
  {
   "cell_type": "markdown",
   "id": "82688f56",
   "metadata": {},
   "source": [
    "# Extract Rating and Reviews"
   ]
  },
  {
   "cell_type": "code",
   "execution_count": 22,
   "id": "13e2cb8a",
   "metadata": {},
   "outputs": [],
   "source": [
    "rating_and_reviews = doc.find_all('span', {'class': '_2_R_DZ'})"
   ]
  },
  {
   "cell_type": "code",
   "execution_count": null,
   "id": "d51fd09a",
   "metadata": {},
   "outputs": [],
   "source": [
    "# extract the ram and rom info \n",
    "for tag in rating_and_reviews_tag:\n",
    "    tag_text = tag.get_text()\n",
    "    rating_and_reviews.append(tag_text)"
   ]
  },
  {
   "cell_type": "code",
   "execution_count": null,
   "id": "dc01ecfd",
   "metadata": {},
   "outputs": [],
   "source": []
  },
  {
   "cell_type": "code",
   "execution_count": null,
   "id": "9c9abc1a",
   "metadata": {},
   "outputs": [],
   "source": []
  },
  {
   "cell_type": "markdown",
   "id": "2e9c6a2e",
   "metadata": {},
   "source": [
    "# Create a list of tuples of all Above Info."
   ]
  },
  {
   "cell_type": "code",
   "execution_count": null,
   "id": "4f710d7c",
   "metadata": {},
   "outputs": [],
   "source": [
    "mobile_data = list(zip(mobile_names, mobile_prices, display_size, camera, battery, ram_rom, rating, rating_and_reviews))\n",
    "\n",
    "# Save data to a CSV file\n",
    "with open('mobile_data.csv', 'w', newline='', encoding='utf-8') as csvfile:\n",
    "    fieldnames = ['Name', 'Price', 'display_size','camera','battery','RAM & ROM','ratings','rating_and_reviews']\n",
    "    writer = csv.writer(csvfile)\n",
    "    writer.writerow(fieldnames)\n",
    "    \n",
    "    for data in mobile_data:\n",
    "        writer.writerow(data)"
   ]
  },
  {
   "cell_type": "code",
   "execution_count": null,
   "id": "a1f36a75",
   "metadata": {},
   "outputs": [],
   "source": []
  },
  {
   "cell_type": "code",
   "execution_count": null,
   "id": "ce3e0c9c",
   "metadata": {},
   "outputs": [],
   "source": []
  },
  {
   "cell_type": "code",
   "execution_count": null,
   "id": "806c3747",
   "metadata": {},
   "outputs": [],
   "source": []
  },
  {
   "cell_type": "code",
   "execution_count": null,
   "id": "ebb776b0",
   "metadata": {},
   "outputs": [],
   "source": []
  },
  {
   "cell_type": "markdown",
   "id": "9b896dee",
   "metadata": {},
   "source": [
    "# Here is the More Simple Code of Above "
   ]
  },
  {
   "cell_type": "code",
   "execution_count": 1,
   "id": "f0cda200",
   "metadata": {},
   "outputs": [
    {
     "name": "stdout",
     "output_type": "stream",
     "text": [
      "137.3748435974121\n"
     ]
    }
   ],
   "source": [
    "import requests\n",
    "from bs4 import BeautifulSoup\n",
    "import csv\n",
    "import time\n",
    "\n",
    "# Initialize lists to store data\n",
    "mobile_names = []\n",
    "mobile_prices = []\n",
    "display_size = []\n",
    "camera = []\n",
    "battery = []\n",
    "ram_rom = []\n",
    "rating = []\n",
    "rating_and_reviews = []\n",
    "\n",
    "start = time.time()\n",
    "\n",
    "# Loop through multiple pages\n",
    "for page_no in range(0, 42):\n",
    "    url = f\"https://www.flipkart.com/search?q=mobile+phones&otracker=search&otracker2=search&marketplace=FLIPKART&as-show=on&as=off&sort=price_desc&page={page_no}\"\n",
    "    response = requests.get(url)\n",
    "    page_content = response.text\n",
    "    \n",
    "    doc = BeautifulSoup(page_content, 'html.parser')\n",
    "    \n",
    "    # Find mobile names and prices\n",
    "    mobile_name_tags = doc.find_all('div', {'class': '_4rR01T'})\n",
    "    \n",
    "    # Extract and store mobile names\n",
    "    for tag in mobile_name_tags:\n",
    "        tag_text = tag.get_text()\n",
    "        mobile_names.append(tag_text)\n",
    "    \n",
    "    \n",
    "    \n",
    "    mobile_price_tags = doc.find_all('div', {'class': '_30jeq3 _1_WHN1'})\n",
    "\n",
    "    # Extract and store mobile prices\n",
    "    for tag in mobile_price_tags:\n",
    "        tag_text = tag.get_text()\n",
    "        mobile_prices.append(tag_text)\n",
    "        \n",
    "        \n",
    "        \n",
    "    # Find mobile camera specifications\n",
    "    mobile_size_tags = doc.find_all('li', {'class': 'rgWa7D'})\n",
    "    \n",
    "    # Extract and store display size specifications\n",
    "    for tag in mobile_size_tags:\n",
    "        tag_text = tag.get_text()\n",
    "        if \"inch\" in tag_text or \"cm\" in tag_text:\n",
    "            display_size.append(tag_text)\n",
    "            \n",
    "      \n",
    "    \n",
    "    mobile_camera_tag = doc.find_all('li', {'class': 'rgWa7D'})\n",
    "    # extract the camera specification\n",
    "    for tag in mobile_camera_tag:\n",
    "        tag_text = tag.get_text()\n",
    "        if \"MP\" in tag_text or \"Camera\" in tag_text:\n",
    "            camera.append(tag_text)\n",
    "      \n",
    "    \n",
    "    \n",
    "    \n",
    "    battery_tag =  doc.find_all('li', {'class': 'rgWa7D'})\n",
    "    \n",
    "    # extract the battery info\n",
    "    for tag in battery_tag:\n",
    "        tag_text = tag.get_text()\n",
    "        if \"mAh\" in tag_text:\n",
    "            battery.append(tag_text[:-7])\n",
    "        else:\n",
    "            continue\n",
    "            \n",
    "           \n",
    "        \n",
    "    ram_rom_tag = doc.find_all('li', {'class': 'rgWa7D'})\n",
    "    \n",
    "    # extract the ram and rom info \n",
    "    for tag in ram_rom_tag:\n",
    "        tag_text = tag.get_text()\n",
    "        if \"RAM\" in tag_text or 'ROM' in tag_text:\n",
    "            ram_rom.append(tag_text)\n",
    "        else:\n",
    "            continue\n",
    "            \n",
    "    \n",
    "    \n",
    "    rating_tag = doc.find_all('div', {'class': '_3LWZlK'})\n",
    "    \n",
    "    # extract the ram and rom info \n",
    "    for tag in rating_tag:\n",
    "        tag_text = tag.get_text()\n",
    "        rating.append(tag_text)\n",
    "            \n",
    "          \n",
    "    \n",
    "    rating_and_reviews_tag = doc.find_all('span', {'class': '_2_R_DZ'})\n",
    "    \n",
    "    # extract the ram and rom info \n",
    "    for tag in rating_and_reviews_tag:\n",
    "        tag_text = tag.get_text()\n",
    "        rating_and_reviews.append(tag_text)\n",
    "            \n",
    "          \n",
    "\n",
    "# Create a list of tuples (name, price, camera)\n",
    "mobile_data = list(zip(mobile_names, mobile_prices, display_size, camera, battery, ram_rom, rating, rating_and_reviews))\n",
    "\n",
    "# Save data to a CSV file\n",
    "with open('mobile_data.csv', 'w', newline='', encoding='utf-8') as csvfile:\n",
    "    fieldnames = ['Model', 'Price', 'Display_Size','Camera','Battery_Size','RAM & ROM','Ratings (out of 5)','Rating_And_Reviews']\n",
    "    writer = csv.writer(csvfile)\n",
    "    writer.writerow(fieldnames)\n",
    "    \n",
    "    for data in mobile_data:\n",
    "        writer.writerow(data)\n",
    "\n",
    "print(time.time() - start)\n"
   ]
  },
  {
   "cell_type": "code",
   "execution_count": null,
   "id": "37209509",
   "metadata": {},
   "outputs": [],
   "source": []
  }
 ],
 "metadata": {
  "kernelspec": {
   "display_name": "Python 3 (ipykernel)",
   "language": "python",
   "name": "python3"
  },
  "language_info": {
   "codemirror_mode": {
    "name": "ipython",
    "version": 3
   },
   "file_extension": ".py",
   "mimetype": "text/x-python",
   "name": "python",
   "nbconvert_exporter": "python",
   "pygments_lexer": "ipython3",
   "version": "3.11.3"
  }
 },
 "nbformat": 4,
 "nbformat_minor": 5
}
