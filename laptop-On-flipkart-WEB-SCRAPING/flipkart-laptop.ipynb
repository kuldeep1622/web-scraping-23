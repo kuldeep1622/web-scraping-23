{
 "cells": [
  {
   "cell_type": "markdown",
   "id": "89921f39",
   "metadata": {},
   "source": [
    "# Import all the Required Libraries"
   ]
  },
  {
   "cell_type": "code",
   "execution_count": 1,
   "id": "d5a1fe6d",
   "metadata": {},
   "outputs": [],
   "source": [
    "import pandas as pd\n",
    "import requests\n",
    "from bs4 import BeautifulSoup\n",
    "import time"
   ]
  },
  {
   "cell_type": "markdown",
   "id": "494a5547",
   "metadata": {},
   "source": [
    "# Website URL"
   ]
  },
  {
   "cell_type": "code",
   "execution_count": 2,
   "id": "6b77def4",
   "metadata": {},
   "outputs": [],
   "source": [
    "url = \"https://www.flipkart.com/search?q=laptops&otracker=search&otracker1=search&marketplace=FLIPKART&as-show=on&as=off&sort=price_desc&page=1\""
   ]
  },
  {
   "cell_type": "code",
   "execution_count": 3,
   "id": "6df184e9",
   "metadata": {},
   "outputs": [],
   "source": [
    "response = requests.get(url)"
   ]
  },
  {
   "cell_type": "markdown",
   "id": "252a4b11",
   "metadata": {},
   "source": [
    "# Check the response code"
   ]
  },
  {
   "cell_type": "code",
   "execution_count": 4,
   "id": "62f2563e",
   "metadata": {},
   "outputs": [
    {
     "data": {
      "text/plain": [
       "200"
      ]
     },
     "execution_count": 4,
     "metadata": {},
     "output_type": "execute_result"
    }
   ],
   "source": [
    "response.status_code"
   ]
  },
  {
   "cell_type": "markdown",
   "id": "045990a5",
   "metadata": {},
   "source": [
    "# Store the page_content "
   ]
  },
  {
   "cell_type": "code",
   "execution_count": 5,
   "id": "d8edb4f2",
   "metadata": {},
   "outputs": [],
   "source": [
    "page_content = response.text"
   ]
  },
  {
   "cell_type": "markdown",
   "id": "464c219c",
   "metadata": {},
   "source": [
    "# call the BeautifulSoup Library to find in tags"
   ]
  },
  {
   "cell_type": "code",
   "execution_count": 6,
   "id": "2e8e4990",
   "metadata": {},
   "outputs": [],
   "source": [
    "doc = BeautifulSoup(page_content, 'html.parser')"
   ]
  },
  {
   "cell_type": "markdown",
   "id": "465d2c5d",
   "metadata": {},
   "source": [
    "# find the required text from the HTML code using tag and class of tag\n",
    "\n"
   ]
  },
  {
   "cell_type": "code",
   "execution_count": 7,
   "id": "4621adb3",
   "metadata": {},
   "outputs": [],
   "source": [
    "laptop_name = []"
   ]
  },
  {
   "cell_type": "markdown",
   "id": "54fe509c",
   "metadata": {},
   "source": [
    "# Extract Laptop name"
   ]
  },
  {
   "cell_type": "code",
   "execution_count": 8,
   "id": "fa49d2ae",
   "metadata": {},
   "outputs": [],
   "source": [
    "laptop_name_tag = doc.find_all('div',{'class':'_4rR01T'})"
   ]
  },
  {
   "cell_type": "code",
   "execution_count": 9,
   "id": "00361ba6",
   "metadata": {},
   "outputs": [],
   "source": [
    "# Extract Laptop names\n",
    "for tag in laptop_name_tag:\n",
    "    tag_text = tag.get_text()\n",
    "    laptop_name.append(tag_text)"
   ]
  },
  {
   "cell_type": "code",
   "execution_count": 10,
   "id": "a2072178",
   "metadata": {},
   "outputs": [
    {
     "data": {
      "text/plain": [
       "['MSI Core i9 13th Gen - (64 GB/4 TB SSD/Windows 11 Home/16 GB Graphics/NVIDIA GeForce RTX 4090) Titan G...',\n",
       " 'MSI Core i9 13th Gen - (64 GB/2 TB SSD/Windows 11 Home/12 GB Graphics/NVIDIA GeForce RTX 4080) Titan G...',\n",
       " 'MSI GT77 Titan Core i9 12th Gen - (64 GB/2 TB SSD/Windows 11 Home/16 GB Graphics/NVIDIA GeForce RTX 30...',\n",
       " 'ASUS ROG Zephyrus Duo 16 with 90WHr Battery Ryzen 9 16 Core 7945HX - (32 GB/2 TB SSD/Windows 11 Home/1...',\n",
       " 'ASUS ROG Strix Scar 17 SE (2022) with 90Whr Battery Core i9 12th Gen - (32 GB/4 TB SSD/Windows 11 Home...',\n",
       " 'DELL Core i9 13th Gen - (32 GB/1 TB SSD/Windows 11 Home/12 GB Graphics/NVIDIA GeForce RTX 4080 GDDR6/2...',\n",
       " 'ASUS ROG Zephyrus Duo 16 (2022) Dual Screen Laptop with 90Whr Battery Ryzen 9 Octa Core 6900HX - (32 G...',\n",
       " 'ASUS ROG Zephyrus Duo 16 with 90WHr Battery Ryzen 9 16 Core 7945HX - (32 GB/2 TB SSD/Windows 11 Home/1...',\n",
       " 'MSI Core i9 13th Gen - (64 GB/2 TB SSD/Windows 11 Home/16 GB Graphics/NVIDIA GeForce RTX 4090) Raider ...',\n",
       " 'ASUS ROG Zephyrus M16 (2023) with 90WHr Battery Intel H-Series Core i9 13th Gen - (32 GB/2 TB SSD/Wind...',\n",
       " 'ASUS ROG Zephyrus Duo 16 (2022) Dual Screen Laptop with 90Whr Battery Ryzen 9 Octa Core 6900HX - (32 G...',\n",
       " 'MSI Core i9 13th Gen - (32 GB/2 TB SSD/Windows 11 Home/16 GB Graphics/NVIDIA GeForce RTX 4090/240 Hz) ...',\n",
       " 'DELL Alienware Core i9 12th Gen - (32 GB/1 TB HDD/1 TB SSD/Windows 11 Home/8 GB Graphics/NVIDIA GeForc...',\n",
       " 'ASUS Zenbook 17 Fold OLED Intel EVO Core i7 12th Gen - (16 GB/1 TB SSD/Windows 11 Home) UX9702AA-MD023...',\n",
       " 'ALIENWARE Core i9 10th Gen - (32 GB/1 TB SSD/Windows 10 Home/8 GB Graphics/NVIDIA GeForce RTX 2080 wit...',\n",
       " 'DELL Alienware Core i9 11th Gen - (32 GB/1 TB SSD/Windows 11 Home/16 GB Graphics/NVIDIA GeForce RTX 30...',\n",
       " 'ASUS ROG Flow Z13 (2023) Intel H-Series Core i9 13th Gen - (32 GB/1 TB SSD/Windows 11 Home/8 GB Graphi...',\n",
       " 'APPLE 2021 Macbook Pro M1 Max - (32 GB/1 TB SSD/Mac OS Monterey) MK1A3HN/A',\n",
       " 'DELL Alienware Core i9 12th Gen - (32 GB/1 TB HDD/1 TB SSD/Windows 11 Home/8 GB Graphics/NVIDIA GeForc...',\n",
       " 'APPLE 2021 Macbook Pro M1 Max - (32 GB/1 TB SSD/Mac OS Monterey) MK1H3HN/A',\n",
       " 'DELL Alienware Core i7 12th Gen - (32 GB/1 TB SSD/Windows 11 Home/8 GB Graphics/NVIDIA GeForce RTX 307...',\n",
       " 'MSI Core i9 13th Gen - (32 GB/1 TB SSD/Windows 11 Home/12 GB Graphics/NVIDIA GeForce RTX 4080/240 Hz) ...',\n",
       " 'HP Omen Intel Core i9 12th Gen - (32 GB/2 TB SSD/Windows 11 Home/16 GB Graphics/NVIDIA GeForce RTX 308...',\n",
       " 'ASUS ROG Strix SCAR 16 (2023) with 90WHr Battery Intel HX-Series Core i9 13th Gen - (32 GB/1 TB SSD/Wi...']"
      ]
     },
     "execution_count": 10,
     "metadata": {},
     "output_type": "execute_result"
    }
   ],
   "source": [
    "laptop_name"
   ]
  },
  {
   "cell_type": "markdown",
   "id": "692f631f",
   "metadata": {},
   "source": [
    "# Extract Laptop Price"
   ]
  },
  {
   "cell_type": "code",
   "execution_count": 11,
   "id": "63135658",
   "metadata": {},
   "outputs": [],
   "source": [
    "laptop_price = []"
   ]
  },
  {
   "cell_type": "code",
   "execution_count": 12,
   "id": "19f2db6e",
   "metadata": {},
   "outputs": [],
   "source": [
    "laptop_price_tag = doc.find_all('div',{'class':'_30jeq3 _1_WHN1'})"
   ]
  },
  {
   "cell_type": "code",
   "execution_count": 13,
   "id": "975488e4",
   "metadata": {},
   "outputs": [],
   "source": [
    "for tag in laptop_price_tag:\n",
    "    tag_text = tag.get_text()\n",
    "    laptop_price.append(tag_text)"
   ]
  },
  {
   "cell_type": "code",
   "execution_count": 14,
   "id": "1874dc56",
   "metadata": {},
   "outputs": [
    {
     "data": {
      "text/plain": [
       "['₹5,99,990',\n",
       " '₹4,89,990',\n",
       " '₹4,50,000',\n",
       " '₹4,29,990',\n",
       " '₹3,99,990',\n",
       " '₹3,96,990',\n",
       " '₹3,91,990',\n",
       " '₹3,79,990',\n",
       " '₹3,79,990',\n",
       " '₹3,64,990',\n",
       " '₹3,61,990',\n",
       " '₹3,59,990',\n",
       " '₹3,34,990',\n",
       " '₹3,29,990',\n",
       " '₹3,25,990',\n",
       " '₹3,23,990',\n",
       " '₹3,16,800',\n",
       " '₹3,09,490',\n",
       " '₹3,04,990',\n",
       " '₹3,03,990',\n",
       " '₹3,00,490',\n",
       " '₹2,99,990',\n",
       " '₹2,96,000',\n",
       " '₹2,84,990']"
      ]
     },
     "execution_count": 14,
     "metadata": {},
     "output_type": "execute_result"
    }
   ],
   "source": [
    "laptop_price"
   ]
  },
  {
   "cell_type": "markdown",
   "id": "5b882d0b",
   "metadata": {},
   "source": [
    "# Extract Processor"
   ]
  },
  {
   "cell_type": "code",
   "execution_count": 15,
   "id": "cedcbc72",
   "metadata": {},
   "outputs": [],
   "source": [
    "other_info = []"
   ]
  },
  {
   "cell_type": "code",
   "execution_count": 16,
   "id": "91a39ca3",
   "metadata": {},
   "outputs": [],
   "source": [
    "other_info_tag = doc.find_all('li', {'class': 'rgWa7D'})"
   ]
  },
  {
   "cell_type": "code",
   "execution_count": 17,
   "id": "42698d1f",
   "metadata": {},
   "outputs": [],
   "source": [
    "for tag in other_info_tag:\n",
    "    tag_text = tag.get_text()\n",
    "    other_info.append(tag_text)"
   ]
  },
  {
   "cell_type": "code",
   "execution_count": 18,
   "id": "e02bb26b",
   "metadata": {},
   "outputs": [
    {
     "data": {
      "text/plain": [
       "['Intel Core i9 Processor (13th Gen)',\n",
       " '64 GB DDR5 RAM',\n",
       " 'Windows 11 Operating System',\n",
       " '4 TB SSD',\n",
       " '43.94 cm (17.3 Inch) Display',\n",
       " '2 Year Carry-in Warranty',\n",
       " 'Intel Core i9 Processor (13th Gen)',\n",
       " '64 GB DDR5 RAM',\n",
       " 'Windows 11 Operating System',\n",
       " '2 TB SSD',\n",
       " '43.94 cm (17.3 Inch) Display',\n",
       " '2 Year Carry-in Warranty',\n",
       " 'Intel Core i9 Processor (12th Gen)',\n",
       " '64 GB DDR5 RAM',\n",
       " '64 bit Windows 11 Operating System',\n",
       " '2 TB SSD',\n",
       " '43.94 cm (17.3 inch) Display',\n",
       " '2 Year Warranty',\n",
       " 'AMD Ryzen 9 16 Core Processor',\n",
       " '32 GB DDR5 RAM',\n",
       " 'Windows 11 Operating System',\n",
       " '2 TB SSD',\n",
       " '40.64 cm (16 Inch) Display',\n",
       " '1 Year Onsite Warranty',\n",
       " 'Intel Core i9 Processor (12th Gen)',\n",
       " '32 GB DDR5 RAM',\n",
       " '64 bit Windows 11 Operating System',\n",
       " '4 TB SSD',\n",
       " '43.94 cm (17.3 inch) Display',\n",
       " '1 Year Onsite Warranty',\n",
       " 'Intel Core i9 Processor (13th Gen)',\n",
       " '32 GB LPDDR5 RAM',\n",
       " '64 bit Windows 11 Operating System',\n",
       " '1 TB SSD',\n",
       " '40.64 cm (16 inch) Display',\n",
       " 'YES',\n",
       " '1 year',\n",
       " 'AMD Ryzen 9 Octa Core Processor',\n",
       " '32 GB DDR5 RAM',\n",
       " '64 bit Windows 11 Operating System',\n",
       " '2 TB SSD',\n",
       " '40.64 cm (16 Inch) Display',\n",
       " '1 Year Onsite Warranty',\n",
       " 'AMD Ryzen 9 16 Core Processor',\n",
       " '32 GB DDR5 RAM',\n",
       " 'Windows 11 Operating System',\n",
       " '2 TB SSD',\n",
       " '40.64 cm (16 Inch) Display',\n",
       " '1 Year Onsite Warranty',\n",
       " 'Intel Core i9 Processor (13th Gen)',\n",
       " '64 GB DDR5 RAM',\n",
       " 'Windows 11 Operating System',\n",
       " '2 TB SSD',\n",
       " '43.94 cm (17.3 Inch) Display',\n",
       " '2 Year Carry-in Warranty',\n",
       " 'Intel Core i9 Processor (13th Gen)',\n",
       " '32 GB DDR5 RAM',\n",
       " 'Windows 11 Operating System',\n",
       " '2 TB SSD',\n",
       " '40.64 cm (16 Inch) Display',\n",
       " '1 Year Onsite Warranty',\n",
       " 'AMD Ryzen 9 Octa Core Processor',\n",
       " '32 GB DDR5 RAM',\n",
       " '64 bit Windows 11 Operating System',\n",
       " '2 TB SSD',\n",
       " '40.64 cm (16 Inch) Display',\n",
       " '1 Year Onsite Warranty',\n",
       " 'Intel Core i9 Processor (13th Gen)',\n",
       " '32 GB DDR5 RAM',\n",
       " 'Windows 11 Operating System',\n",
       " '2 TB SSD',\n",
       " '43.18 cm (17 Inch) Display',\n",
       " '2 Year Carry-in Warranty',\n",
       " 'Intel Core i9 Processor (12th Gen)',\n",
       " '32 GB DDR5 RAM',\n",
       " '64 bit Windows 11 Operating System',\n",
       " '1 TB HDD|1 TB SSD',\n",
       " '43.94 cm (17.3 Inch) Display',\n",
       " '1 Year Onsite Premium Support Plus (Includes ADP)',\n",
       " 'Stylish & Portable Thin and Light Foldable Laptop\\n12th Gen Intel Evo� Core i7-1250U CPU with 10 cores and 4.7 GHz max frequency\\n17.3 Inch 2.5K Foldable OLED, 0.2ms response time, 60Hz refresh rate, 500nits HDR peak brightness, 100% DCI-P3 color gamut, VESA CERTIFIED Display HDR True Black 500\\nWorld�s first 17� foldable OLED laptop with Multiple versatile use cases possible: laptop, tablet, AiO, vertical, extended, etc.\\n17.3� screen when unfolded, while just 8.7mm thin and 1.5kg in weight. MIL-STD 810H Military-grade durability\\nASUS ErgoSense Bluetooth keyboard included in the box.\\nTwo Thunderbolt 4 ports for external 4K display, 40 GB/s data transfer and fast charging',\n",
       " 'Intel Core i7 Processor (12th Gen)',\n",
       " '16 GB LPDDR5 RAM',\n",
       " '64 bit Windows 11 Operating System',\n",
       " '1 TB SSD',\n",
       " '43.94 cm (17.3 Inch) Touchscreen Display',\n",
       " '1 Year Onsite Warranty',\n",
       " 'NVIDIA GeForce RTX 2080 with Max-Q',\n",
       " '15.6 inch Full HD LED Backlit Anti-glare IPS Display, 300 Hz, 300 Nits',\n",
       " 'Alienware Cryo-tech thermal technology to keep the system cool and running at highest performance',\n",
       " 'Tobii-eye tracking to track head pose, presence, fine gaze and eye position',\n",
       " 'In-built Alienware Command center software with enhanced control over system settings',\n",
       " 'Intel Core i9 Processor (10th Gen)',\n",
       " '32 GB DDR4 RAM',\n",
       " '64 bit Windows 10 Operating System',\n",
       " '1 TB SSD',\n",
       " '39.62 cm (15.6 inch) Display',\n",
       " 'Microsoft Office Home and Student 2019',\n",
       " '1 Year Limited Hardware Warranty, In Home Service After Remote Diagnosis - Retail',\n",
       " 'Intel Core i9 Processor (11th Gen)',\n",
       " '32 GB DDR4 RAM',\n",
       " '64 bit Windows 11 Operating System',\n",
       " '1 TB SSD',\n",
       " '43.94 cm (17.3 Inch) Display',\n",
       " '1 Year Onsite Premium Support Plus (Includes ADP)',\n",
       " 'Intel Core i9 Processor (13th Gen)',\n",
       " '32 GB LPDDR5 RAM',\n",
       " 'Windows 11 Operating System',\n",
       " '1 TB SSD',\n",
       " '34.04 cm (13.4 Inch) Display',\n",
       " '1 Year Onsite Warranty',\n",
       " 'Apple M1 Max Processor',\n",
       " '32 GB Unified Memory RAM',\n",
       " 'Mac OS Operating System',\n",
       " '1 TB SSD',\n",
       " '41.15 cm (16.2 inch) Display',\n",
       " 'iMovie, Siri, GarageBand, Pages, Numbers, Photos, Keynote, Safari, Mail, FaceTime, Messages, Maps, Stocks, Home, Voice Memos, Notes, Calendar, Contacts, Reminders, Photo Booth, Preview, Books, App Store, Time Machine, TV, Music, Podcasts, Find My, QuickTime Player',\n",
       " '1 Year Limited Warranty',\n",
       " 'Intel Core i9 Processor (12th Gen)',\n",
       " '32 GB LPDDR5 RAM',\n",
       " '64 bit Windows 11 Operating System',\n",
       " '1 TB HDD|1 TB SSD',\n",
       " '39.62 cm (15.6 Inch) Display',\n",
       " '1 Year Onsite Premium Support Plus (Includes ADP)',\n",
       " 'Apple M1 Max Processor',\n",
       " '32 GB Unified Memory RAM',\n",
       " 'Mac OS Operating System',\n",
       " '1 TB SSD',\n",
       " '41.15 cm (16.2 inch) Display',\n",
       " 'iMovie, Siri, GarageBand, Pages, Numbers, Photos, Keynote, Safari, Mail, FaceTime, Messages, Maps, Stocks, Home, Voice Memos, Notes, Calendar, Contacts, Reminders, Photo Booth, Preview, Books, App Store, Time Machine, TV, Music, Podcasts, Find My, QuickTime Player',\n",
       " '1 Year Limited Warranty',\n",
       " 'Intel Core i7 Processor (12th Gen)',\n",
       " '32 GB DDR5 RAM',\n",
       " '64 bit Windows 11 Operating System',\n",
       " '1 TB SSD',\n",
       " '43.94 cm (17.3 Inch) Display',\n",
       " '1 Year Onsite Premium Support Plus (Includes ADP)',\n",
       " 'Intel Core i9 Processor (13th Gen)',\n",
       " '32 GB DDR5 RAM',\n",
       " 'Windows 11 Operating System',\n",
       " '1 TB SSD',\n",
       " '40.64 cm (16 Inch) Display',\n",
       " '2 Year Carry-in Warranty',\n",
       " 'Intel Core i9 Processor (12th Gen)',\n",
       " '32 GB DDR5 RAM',\n",
       " '64 bit Windows 11 Operating System',\n",
       " '2 TB SSD',\n",
       " '43.94 cm (17.3 Inch) Display',\n",
       " '1 Year Onsite Warranty',\n",
       " 'Intel Core i9 Processor (13th Gen)',\n",
       " '32 GB DDR5 RAM',\n",
       " 'Windows 11 Operating System',\n",
       " '1 TB SSD',\n",
       " '40.64 cm (16 Inch) Display',\n",
       " '1 Year Onsite Warranty']"
      ]
     },
     "execution_count": 18,
     "metadata": {},
     "output_type": "execute_result"
    }
   ],
   "source": [
    "other_info"
   ]
  },
  {
   "cell_type": "markdown",
   "id": "e659a80f",
   "metadata": {},
   "source": [
    "# Extract RAM Info."
   ]
  },
  {
   "cell_type": "code",
   "execution_count": 19,
   "id": "9a0c1542",
   "metadata": {},
   "outputs": [],
   "source": [
    "ram_info = []\n",
    "for ram in other_info:\n",
    "    if \"RAM\" in ram:\n",
    "        ram_info.append(ram)\n"
   ]
  },
  {
   "cell_type": "code",
   "execution_count": 20,
   "id": "8475e716",
   "metadata": {
    "scrolled": true
   },
   "outputs": [
    {
     "data": {
      "text/plain": [
       "['64 GB DDR5 RAM',\n",
       " '64 GB DDR5 RAM',\n",
       " '64 GB DDR5 RAM',\n",
       " '32 GB DDR5 RAM',\n",
       " '32 GB DDR5 RAM',\n",
       " '32 GB LPDDR5 RAM',\n",
       " '32 GB DDR5 RAM',\n",
       " '32 GB DDR5 RAM',\n",
       " '64 GB DDR5 RAM',\n",
       " '32 GB DDR5 RAM',\n",
       " '32 GB DDR5 RAM',\n",
       " '32 GB DDR5 RAM',\n",
       " '32 GB DDR5 RAM',\n",
       " '16 GB LPDDR5 RAM',\n",
       " '32 GB DDR4 RAM',\n",
       " '32 GB DDR4 RAM',\n",
       " '32 GB LPDDR5 RAM',\n",
       " '32 GB Unified Memory RAM',\n",
       " '32 GB LPDDR5 RAM',\n",
       " '32 GB Unified Memory RAM',\n",
       " '32 GB DDR5 RAM',\n",
       " '32 GB DDR5 RAM',\n",
       " '32 GB DDR5 RAM',\n",
       " '32 GB DDR5 RAM']"
      ]
     },
     "execution_count": 20,
     "metadata": {},
     "output_type": "execute_result"
    }
   ],
   "source": [
    "ram_info"
   ]
  },
  {
   "cell_type": "markdown",
   "id": "be346da3",
   "metadata": {},
   "source": [
    "# Extract Processor Info."
   ]
  },
  {
   "cell_type": "code",
   "execution_count": 27,
   "id": "a38c67b2",
   "metadata": {},
   "outputs": [],
   "source": [
    "processor_info = []\n",
    "for processor in other_info:\n",
    "    if \"Processor\" in processor:\n",
    "        processor_info.append(processor)\n"
   ]
  },
  {
   "cell_type": "code",
   "execution_count": 28,
   "id": "79b76e91",
   "metadata": {
    "scrolled": true
   },
   "outputs": [
    {
     "data": {
      "text/plain": [
       "['Intel Core i9 Processor (13th Gen)',\n",
       " 'Intel Core i9 Processor (13th Gen)',\n",
       " 'Intel Core i9 Processor (12th Gen)',\n",
       " 'AMD Ryzen 9 16 Core Processor',\n",
       " 'Intel Core i9 Processor (12th Gen)',\n",
       " 'Intel Core i9 Processor (13th Gen)',\n",
       " 'AMD Ryzen 9 Octa Core Processor',\n",
       " 'AMD Ryzen 9 16 Core Processor',\n",
       " 'Intel Core i9 Processor (13th Gen)',\n",
       " 'Intel Core i9 Processor (13th Gen)',\n",
       " 'AMD Ryzen 9 Octa Core Processor',\n",
       " 'Intel Core i9 Processor (13th Gen)',\n",
       " 'Intel Core i9 Processor (12th Gen)',\n",
       " 'Intel Core i7 Processor (12th Gen)',\n",
       " 'Intel Core i9 Processor (10th Gen)',\n",
       " 'Intel Core i9 Processor (11th Gen)',\n",
       " 'Intel Core i9 Processor (13th Gen)',\n",
       " 'Apple M1 Max Processor',\n",
       " 'Intel Core i9 Processor (12th Gen)',\n",
       " 'Apple M1 Max Processor',\n",
       " 'Intel Core i7 Processor (12th Gen)',\n",
       " 'Intel Core i9 Processor (13th Gen)',\n",
       " 'Intel Core i9 Processor (12th Gen)',\n",
       " 'Intel Core i9 Processor (13th Gen)']"
      ]
     },
     "execution_count": 28,
     "metadata": {},
     "output_type": "execute_result"
    }
   ],
   "source": [
    "processor_info"
   ]
  },
  {
   "cell_type": "markdown",
   "id": "d07258d3",
   "metadata": {},
   "source": [
    "# Extract Operating System Info."
   ]
  },
  {
   "cell_type": "code",
   "execution_count": 29,
   "id": "cdac502e",
   "metadata": {},
   "outputs": [],
   "source": [
    "Operating_System_info = []\n",
    "for Operating_System in other_info:\n",
    "    if \"Operating\" in Operating_System:\n",
    "        Operating_System_info.append(Operating_System)\n"
   ]
  },
  {
   "cell_type": "code",
   "execution_count": 31,
   "id": "7a364ec7",
   "metadata": {},
   "outputs": [
    {
     "data": {
      "text/plain": [
       "['Windows 11 Operating System',\n",
       " 'Windows 11 Operating System',\n",
       " '64 bit Windows 11 Operating System',\n",
       " 'Windows 11 Operating System',\n",
       " '64 bit Windows 11 Operating System',\n",
       " '64 bit Windows 11 Operating System',\n",
       " '64 bit Windows 11 Operating System',\n",
       " 'Windows 11 Operating System',\n",
       " 'Windows 11 Operating System',\n",
       " 'Windows 11 Operating System',\n",
       " '64 bit Windows 11 Operating System',\n",
       " 'Windows 11 Operating System',\n",
       " '64 bit Windows 11 Operating System',\n",
       " '64 bit Windows 11 Operating System',\n",
       " '64 bit Windows 10 Operating System',\n",
       " '64 bit Windows 11 Operating System',\n",
       " 'Windows 11 Operating System',\n",
       " 'Mac OS Operating System',\n",
       " '64 bit Windows 11 Operating System',\n",
       " 'Mac OS Operating System',\n",
       " '64 bit Windows 11 Operating System',\n",
       " 'Windows 11 Operating System',\n",
       " '64 bit Windows 11 Operating System',\n",
       " 'Windows 11 Operating System']"
      ]
     },
     "execution_count": 31,
     "metadata": {},
     "output_type": "execute_result"
    }
   ],
   "source": [
    "Operating_System_info"
   ]
  },
  {
   "cell_type": "markdown",
   "id": "117327c3",
   "metadata": {},
   "source": [
    "# Extract Storage Info."
   ]
  },
  {
   "cell_type": "code",
   "execution_count": 32,
   "id": "8758516b",
   "metadata": {},
   "outputs": [],
   "source": [
    "Storage_info = []\n",
    "for Storage in other_info:\n",
    "    if \"SSD\" in Storage or \"HDD\" in Storage:\n",
    "        Storage_info.append(Storage)\n"
   ]
  },
  {
   "cell_type": "code",
   "execution_count": 33,
   "id": "f2a9c762",
   "metadata": {},
   "outputs": [
    {
     "data": {
      "text/plain": [
       "['4 TB SSD',\n",
       " '2 TB SSD',\n",
       " '2 TB SSD',\n",
       " '2 TB SSD',\n",
       " '4 TB SSD',\n",
       " '1 TB SSD',\n",
       " '2 TB SSD',\n",
       " '2 TB SSD',\n",
       " '2 TB SSD',\n",
       " '2 TB SSD',\n",
       " '2 TB SSD',\n",
       " '2 TB SSD',\n",
       " '1 TB HDD|1 TB SSD',\n",
       " '1 TB SSD',\n",
       " '1 TB SSD',\n",
       " '1 TB SSD',\n",
       " '1 TB SSD',\n",
       " '1 TB SSD',\n",
       " '1 TB HDD|1 TB SSD',\n",
       " '1 TB SSD',\n",
       " '1 TB SSD',\n",
       " '1 TB SSD',\n",
       " '2 TB SSD',\n",
       " '1 TB SSD']"
      ]
     },
     "execution_count": 33,
     "metadata": {},
     "output_type": "execute_result"
    }
   ],
   "source": [
    "Storage_info"
   ]
  },
  {
   "cell_type": "markdown",
   "id": "fc2ea856",
   "metadata": {},
   "source": [
    "# Extract Display Size Info"
   ]
  },
  {
   "cell_type": "code",
   "execution_count": 34,
   "id": "05cecf92",
   "metadata": {},
   "outputs": [],
   "source": [
    "Display_size_info = []\n",
    "for Display_size in other_info:\n",
    "    if \"inch\" in Display_size or \"cm\" in Display_size or \"Display\" in Display_size:\n",
    "        Display_size_info.append(Display_size)\n"
   ]
  },
  {
   "cell_type": "code",
   "execution_count": 35,
   "id": "0ba74478",
   "metadata": {},
   "outputs": [
    {
     "data": {
      "text/plain": [
       "['43.94 cm (17.3 Inch) Display',\n",
       " '43.94 cm (17.3 Inch) Display',\n",
       " '43.94 cm (17.3 inch) Display',\n",
       " '40.64 cm (16 Inch) Display',\n",
       " '43.94 cm (17.3 inch) Display',\n",
       " '40.64 cm (16 inch) Display',\n",
       " '40.64 cm (16 Inch) Display',\n",
       " '40.64 cm (16 Inch) Display',\n",
       " '43.94 cm (17.3 Inch) Display',\n",
       " '40.64 cm (16 Inch) Display',\n",
       " '40.64 cm (16 Inch) Display',\n",
       " '43.18 cm (17 Inch) Display',\n",
       " '43.94 cm (17.3 Inch) Display',\n",
       " 'Stylish & Portable Thin and Light Foldable Laptop\\n12th Gen Intel Evo� Core i7-1250U CPU with 10 cores and 4.7 GHz max frequency\\n17.3 Inch 2.5K Foldable OLED, 0.2ms response time, 60Hz refresh rate, 500nits HDR peak brightness, 100% DCI-P3 color gamut, VESA CERTIFIED Display HDR True Black 500\\nWorld�s first 17� foldable OLED laptop with Multiple versatile use cases possible: laptop, tablet, AiO, vertical, extended, etc.\\n17.3� screen when unfolded, while just 8.7mm thin and 1.5kg in weight. MIL-STD 810H Military-grade durability\\nASUS ErgoSense Bluetooth keyboard included in the box.\\nTwo Thunderbolt 4 ports for external 4K display, 40 GB/s data transfer and fast charging',\n",
       " '43.94 cm (17.3 Inch) Touchscreen Display',\n",
       " '15.6 inch Full HD LED Backlit Anti-glare IPS Display, 300 Hz, 300 Nits',\n",
       " '39.62 cm (15.6 inch) Display',\n",
       " '43.94 cm (17.3 Inch) Display',\n",
       " '34.04 cm (13.4 Inch) Display',\n",
       " '41.15 cm (16.2 inch) Display',\n",
       " '39.62 cm (15.6 Inch) Display',\n",
       " '41.15 cm (16.2 inch) Display',\n",
       " '43.94 cm (17.3 Inch) Display',\n",
       " '40.64 cm (16 Inch) Display',\n",
       " '43.94 cm (17.3 Inch) Display',\n",
       " '40.64 cm (16 Inch) Display']"
      ]
     },
     "execution_count": 35,
     "metadata": {},
     "output_type": "execute_result"
    }
   ],
   "source": [
    "Display_size_info"
   ]
  },
  {
   "cell_type": "code",
   "execution_count": null,
   "id": "447aaf46",
   "metadata": {},
   "outputs": [],
   "source": []
  },
  {
   "cell_type": "code",
   "execution_count": null,
   "id": "916e659d",
   "metadata": {},
   "outputs": [],
   "source": []
  },
  {
   "cell_type": "code",
   "execution_count": null,
   "id": "3b50be7d",
   "metadata": {},
   "outputs": [],
   "source": []
  },
  {
   "cell_type": "code",
   "execution_count": 6,
   "id": "dc01ecfd",
   "metadata": {},
   "outputs": [
    {
     "name": "stdout",
     "output_type": "stream",
     "text": [
      "132.0657525062561\n"
     ]
    }
   ],
   "source": [
    "import requests\n",
    "from bs4 import BeautifulSoup\n",
    "import csv\n",
    "import time\n",
    "\n",
    "# Initialize lists to store data\n",
    "laptop_name = []\n",
    "laptop_price = []\n",
    "other_info = []\n",
    "ram_info = []\n",
    "processor_info = []\n",
    "Operating_System_info = []\n",
    "Storage_info = []\n",
    "Display_size_info = []\n",
    "\n",
    "\n",
    "\n",
    "start = time.time()\n",
    "\n",
    "# Loop through multiple pages\n",
    "for i in range(1, 41):\n",
    "    url = f\"https://www.flipkart.com/search?q=laptops&otracker=search&otracker1=search&marketplace=FLIPKART&as-show=on&as=off&sort=price_desc&page={i}\"\n",
    "    response = requests.get(url)\n",
    "    page_content = response.text\n",
    "\n",
    "    doc = BeautifulSoup(page_content, 'html.parser')\n",
    "    \n",
    "    \n",
    "    laptop_name_tag = doc.find_all('div',{'class':'_4rR01T'})\n",
    "\n",
    "    # Extract Laptop names\n",
    "    for tag in laptop_name_tag:\n",
    "        tag_text = tag.get_text()\n",
    "        laptop_name.append(tag_text)\n",
    "    \n",
    "    \n",
    "    laptop_price_tag = doc.find_all('div',{'class':'_30jeq3 _1_WHN1'})\n",
    "    # Extract Laptop price\n",
    "    for tag in laptop_price_tag:\n",
    "        tag_text = tag.get_text()\n",
    "        laptop_price.append(tag_text)\n",
    "\n",
    "      \n",
    "    other_info_tag = doc.find_all('li', {'class': 'rgWa7D'})\n",
    "    # Find Other Info\n",
    "    for tag in other_info_tag:\n",
    "        tag_text = tag.get_text()\n",
    "        other_info.append(tag_text)\n",
    "\n",
    "        \n",
    "    \n",
    "    \n",
    "    other_info_tag = doc.find_all('li', {'class': 'rgWa7D'})\n",
    "\n",
    "    for ram in other_info:\n",
    "        if \"RAM\" in ram:\n",
    "            ram_info.append(ram)\n",
    "\n",
    "    \n",
    "    \n",
    "    other_info_tag = doc.find_all('li', {'class': 'rgWa7D'})\n",
    "\n",
    "    for processor in other_info:\n",
    "        if \"Processor\" in processor:\n",
    "            processor_info.append(processor)\n",
    "\n",
    "    \n",
    "    \n",
    "    other_info_tag = doc.find_all('li', {'class': 'rgWa7D'})\n",
    "\n",
    "    for Operating_System in other_info:\n",
    "        if \"Operating\" in Operating_System:\n",
    "            Operating_System_info.append(Operating_System)                \n",
    "\n",
    "   \n",
    "\n",
    "    other_info_tag = doc.find_all('li', {'class': 'rgWa7D'})\n",
    "\n",
    "    for Storage in other_info:\n",
    "        if \"SSD\" in Storage or \"HDD\" in Storage:\n",
    "            Storage_info.append(Storage)               \n",
    "    \n",
    "    \n",
    "    \n",
    "    other_info_tag = doc.find_all('li', {'class': 'rgWa7D'})\n",
    "\n",
    "    for Display_size in other_info:\n",
    "        if \"inch\" in Display_size or \"cm\" in Display_size or \"Display\" in Display_size:\n",
    "            Display_size_info.append(Display_size)\n",
    "\n",
    "\n",
    "\n",
    "\n",
    "# Create a list of tuples \n",
    "laptop_data = list(zip(laptop_name, laptop_price, ram_info, processor_info, Operating_System_info, Storage_info, Display_size_info))\n",
    "\n",
    "# Save data to a CSV file\n",
    "with open('laptop_data.csv', 'w', newline='', encoding='utf-8') as csvfile:\n",
    "    fieldnames = ['Model', 'price', 'RAM', 'Processor', 'Operating System','Storage','Display Size']\n",
    "    writer = csv.writer(csvfile)\n",
    "    writer.writerow(fieldnames)\n",
    "\n",
    "    for data in laptop_data:\n",
    "        writer.writerow(data)\n",
    "\n",
    "print(time.time() - start)\n"
   ]
  },
  {
   "cell_type": "code",
   "execution_count": null,
   "id": "9c9abc1a",
   "metadata": {},
   "outputs": [],
   "source": []
  },
  {
   "cell_type": "code",
   "execution_count": null,
   "id": "4f710d7c",
   "metadata": {},
   "outputs": [],
   "source": [
    "\n"
   ]
  },
  {
   "cell_type": "code",
   "execution_count": null,
   "id": "a1f36a75",
   "metadata": {},
   "outputs": [],
   "source": []
  },
  {
   "cell_type": "code",
   "execution_count": null,
   "id": "ce3e0c9c",
   "metadata": {},
   "outputs": [],
   "source": []
  },
  {
   "cell_type": "code",
   "execution_count": null,
   "id": "806c3747",
   "metadata": {},
   "outputs": [],
   "source": []
  },
  {
   "cell_type": "code",
   "execution_count": null,
   "id": "ebb776b0",
   "metadata": {},
   "outputs": [],
   "source": []
  },
  {
   "cell_type": "code",
   "execution_count": null,
   "id": "b6ca37a6",
   "metadata": {},
   "outputs": [],
   "source": []
  },
  {
   "cell_type": "code",
   "execution_count": null,
   "id": "f0cda200",
   "metadata": {},
   "outputs": [],
   "source": []
  },
  {
   "cell_type": "code",
   "execution_count": null,
   "id": "37209509",
   "metadata": {},
   "outputs": [],
   "source": []
  },
  {
   "cell_type": "code",
   "execution_count": null,
   "id": "37063168",
   "metadata": {},
   "outputs": [],
   "source": []
  },
  {
   "cell_type": "code",
   "execution_count": null,
   "id": "c1f2661e",
   "metadata": {},
   "outputs": [],
   "source": []
  }
 ],
 "metadata": {
  "kernelspec": {
   "display_name": "Python 3 (ipykernel)",
   "language": "python",
   "name": "python3"
  },
  "language_info": {
   "codemirror_mode": {
    "name": "ipython",
    "version": 3
   },
   "file_extension": ".py",
   "mimetype": "text/x-python",
   "name": "python",
   "nbconvert_exporter": "python",
   "pygments_lexer": "ipython3",
   "version": "3.11.3"
  }
 },
 "nbformat": 4,
 "nbformat_minor": 5
}
